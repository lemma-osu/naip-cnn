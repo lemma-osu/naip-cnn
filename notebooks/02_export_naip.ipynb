{
 "cells": [
  {
   "cell_type": "code",
   "execution_count": 1,
   "metadata": {},
   "outputs": [
    {
     "name": "stderr",
     "output_type": "stream",
     "text": [
      "/usr/lib/python3/dist-packages/requests/__init__.py:89: RequestsDependencyWarning: urllib3 (1.26.19) or chardet (3.0.4) doesn't match a supported version!\n",
      "  warnings.warn(\"urllib3 ({}) or chardet ({}) doesn't match a supported \"\n"
     ]
    }
   ],
   "source": [
    "import ee\n",
    "\n",
    "from naip_cnn.data import NAIPTFRecord\n",
    "\n",
    "ee.Initialize()"
   ]
  },
  {
   "cell_type": "code",
   "execution_count": 2,
   "metadata": {},
   "outputs": [],
   "source": [
    "BLUE_MTNS = (\n",
    "    ee.FeatureCollection(\"projects/ee-aazuspan/assets/ecoregions\")\n",
    "    .filter(ee.Filter.eq(\"NA_L3NAME\", \"Blue Mountains\"))\n",
    "    .first()\n",
    ").geometry()\n",
    "\n",
    "\n",
    "MALHEUR = (\n",
    "    ee.FeatureCollection(\"USGS/GAP/PAD-US/v20/fee\")\n",
    "    .filter(ee.Filter.eq(\"Loc_Nm\", \"Malheur National Forest\"))\n",
    "    .first()\n",
    ").geometry()\n",
    "\n",
    "\n",
    "STUDY_AREA = ee.FeatureCollection(\n",
    "    \"projects/ee-maptheforests/assets/USFS_RD_CNN\"\n",
    ").geometry()\n",
    "\n",
    "\n",
    "TEST_BBOX = ee.Geometry.Polygon(\n",
    "    [\n",
    "        [\n",
    "            [-119.37239004502233, 44.48079613290612],\n",
    "            [-118.57725454697545, 44.48079613290612],\n",
    "            [-118.57725454697545, 44.81785572318615],\n",
    "            [-119.37239004502233, 44.81785572318615],\n",
    "        ]\n",
    "    ]\n",
    ")\n",
    "\n",
    "# A BBOX around the 2015 Canyon Creek fire, which includes a weird section of blurry\n",
    "# NAIP in 2011 that causes issues for the model.\n",
    "CANYON_CREEK = ee.Geometry.Polygon(\n",
    "    [\n",
    "        [\n",
    "            [-119.04311610904354, 44.393977631186324],\n",
    "            [-119.04311610904354, 44.16095221729865],\n",
    "            [-118.61464931216854, 44.16095221729865],\n",
    "            [-118.61464931216854, 44.393977631186324],\n",
    "        ]\n",
    "    ]\n",
    ")"
   ]
  },
  {
   "cell_type": "code",
   "execution_count": 3,
   "metadata": {},
   "outputs": [],
   "source": [
    "naip = NAIPTFRecord(\n",
    "    id=\"STUDY_REGION\",\n",
    "    footprint=(30, 30),\n",
    "    res=1.0,\n",
    "    year=2012,\n",
    "    bounds=STUDY_AREA.bounds(),\n",
    ")\n",
    "\n",
    "task = naip.export_to_drive(clip=None, export_mask=False)"
   ]
  },
  {
   "cell_type": "code",
   "execution_count": 4,
   "metadata": {},
   "outputs": [
    {
     "data": {
      "text/plain": [
       "{'state': 'READY',\n",
       " 'description': 'STUDY_REGION-2012-1-30x30',\n",
       " 'priority': 100,\n",
       " 'creation_timestamp_ms': 1749692178041,\n",
       " 'update_timestamp_ms': 1749692178041,\n",
       " 'start_timestamp_ms': 0,\n",
       " 'task_type': 'EXPORT_IMAGE',\n",
       " 'id': '6WQGQWWFNKUBECCX3CG24UFM',\n",
       " 'name': 'projects/ee-aazuspan/operations/6WQGQWWFNKUBECCX3CG24UFM'}"
      ]
     },
     "execution_count": 4,
     "metadata": {},
     "output_type": "execute_result"
    }
   ],
   "source": [
    "task.status()"
   ]
  }
 ],
 "metadata": {
  "kernelspec": {
   "display_name": "Python 3",
   "language": "python",
   "name": "python3"
  },
  "language_info": {
   "codemirror_mode": {
    "name": "ipython",
    "version": 3
   },
   "file_extension": ".py",
   "mimetype": "text/x-python",
   "name": "python",
   "nbconvert_exporter": "python",
   "pygments_lexer": "ipython3",
   "version": "3.8.10"
  }
 },
 "nbformat": 4,
 "nbformat_minor": 2
}
